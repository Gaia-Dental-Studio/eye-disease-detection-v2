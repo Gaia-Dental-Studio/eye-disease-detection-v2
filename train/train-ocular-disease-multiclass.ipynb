{
 "cells": [
  {
   "cell_type": "markdown",
   "metadata": {},
   "source": [
    "### Import Modules"
   ]
  },
  {
   "cell_type": "code",
   "execution_count": 1,
   "metadata": {},
   "outputs": [
    {
     "ename": "SyntaxError",
     "evalue": "invalid syntax (utils.py, line 51)",
     "output_type": "error",
     "traceback": [
      "Traceback \u001b[0;36m(most recent call last)\u001b[0m:\n",
      "\u001b[0m  File \u001b[1;32m~/miniforge3/envs/clearsee-env/lib/python3.9/site-packages/IPython/core/interactiveshell.py:3550\u001b[0m in \u001b[1;35mrun_code\u001b[0m\n    exec(code_obj, self.user_global_ns, self.user_ns)\u001b[0m\n",
      "\u001b[0;36m  Cell \u001b[0;32mIn[1], line 33\u001b[0;36m\n\u001b[0;31m    from utils import (\u001b[0;36m\n",
      "\u001b[0;36m  File \u001b[0;32m~/GAIA_partime/Ocular/eye-disease-detection-v2/train/utils.py:51\u001b[0;36m\u001b[0m\n\u001b[0;31m    w_disease = df[]\u001b[0m\n\u001b[0m                   ^\u001b[0m\n\u001b[0;31mSyntaxError\u001b[0m\u001b[0;31m:\u001b[0m invalid syntax\n"
     ]
    }
   ],
   "source": [
    "import cv2\n",
    "import os\n",
    "import seaborn as sn\n",
    "import tensorflow as tf\n",
    "import datetime\n",
    "\n",
    "import numpy as np\n",
    "import pandas as pd\n",
    "\n",
    "import random\n",
    "from tqdm import tqdm\n",
    "import matplotlib.pyplot as plt\n",
    "\n",
    "from keras.callbacks import ModelCheckpoint,EarlyStopping\n",
    "from keras.preprocessing.image import ImageDataGenerator\n",
    "from keras.utils import (\n",
    "                        load_img,\n",
    "                        img_to_array\n",
    "                        )\n",
    "\n",
    "from sklearn.model_selection import train_test_split\n",
    "from sklearn.metrics import (\n",
    "                            confusion_matrix,\n",
    "                            classification_report,\n",
    "                            accuracy_score\n",
    "                            )\n",
    "\n",
    "from keras.applications.efficientnet import EfficientNetB0\n",
    "from keras import Sequential\n",
    "from keras.layers import Flatten,Dense\n",
    "from keras.applications.efficientnet import preprocess_input as preprocess_efficientnet\n",
    "\n",
    "from utils import (\n",
    "                    get_spesific_class,\n",
    "                    get_normal_class,\n",
    "                    create_dataset,\n",
    "                    image_resize,\n",
    "                    img_prep_CLAHE\n",
    "                    )"
   ]
  },
  {
   "cell_type": "code",
   "execution_count": null,
   "metadata": {},
   "outputs": [],
   "source": [
    "os.chdir('..')"
   ]
  },
  {
   "cell_type": "code",
   "execution_count": null,
   "metadata": {},
   "outputs": [],
   "source": [
    "curr_path = os.getcwd()\n",
    "curr_path"
   ]
  },
  {
   "cell_type": "code",
   "execution_count": null,
   "metadata": {},
   "outputs": [],
   "source": [
    "for root, dirs, files in os.walk(curr_path):\n",
    "    for directory_name in dirs:\n",
    "        if directory_name == 'dataset':\n",
    "            DATASET_DIR_ROOT = os.path.join(root, directory_name)"
   ]
  }
 ],
 "metadata": {
  "kernelspec": {
   "display_name": "clearsee-env",
   "language": "python",
   "name": "python3"
  },
  "language_info": {
   "codemirror_mode": {
    "name": "ipython",
    "version": 3
   },
   "file_extension": ".py",
   "mimetype": "text/x-python",
   "name": "python",
   "nbconvert_exporter": "python",
   "pygments_lexer": "ipython3",
   "version": "3.9.15"
  }
 },
 "nbformat": 4,
 "nbformat_minor": 2
}
